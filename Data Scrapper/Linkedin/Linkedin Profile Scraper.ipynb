{
 "cells": [
  {
   "cell_type": "code",
   "execution_count": 12,
   "id": "e79ea085",
   "metadata": {},
   "outputs": [],
   "source": [
    "import requests\n",
    "api_endpoint = 'https://nubela.co/proxycurl/api/v2/linkedin'\n",
    "linkedin_profile_url = 'https://www.linkedin.com/in/balasubramanianpg2022/'\n",
    "api_key = 'i2nFuRLJhN43R4oqFJxPDA'\n",
    "headers = {'Authorization': 'Bearer ' + api_key}\n",
    "\n",
    "response = requests.get(api_endpoint,\n",
    "                        params={'url': linkedin_profile_url,'skills': 'include'},\n",
    "                        headers=headers)"
   ]
  },
  {
   "cell_type": "code",
   "execution_count": 13,
   "id": "15e66792",
   "metadata": {},
   "outputs": [
    {
     "data": {
      "text/plain": [
       "{'public_identifier': 'balasubramanianpg2022',\n",
       " 'profile_pic_url': 'https://media.licdn.com/dms/image/D5603AQF69oX-Al1yjg/profile-displayphoto-shrink_400_400/0/1673157781131?e=1678924800&v=beta&t=KDuuZAr8fQ598b8tn9WmSBlxED1mz1WIBzSPHc1ND14',\n",
       " 'background_cover_image_url': None,\n",
       " 'first_name': 'Balasubramanian',\n",
       " 'last_name': 'P.G',\n",
       " 'full_name': 'Balasubramanian P.G',\n",
       " 'occupation': 'Business Intelligence Analyst at Flipcarbon: Virtual CFO & Accounting Services',\n",
       " 'headline': 'Aspiring Business Analyst | BI Intern at Flipcarbon: Virtual CFO & Accounting Services | Experience with Excel, SQL, Python and Visualization Tools | Graduating MBA, Business Analytics in 2023.',\n",
       " 'summary': 'Hey there, I am glad you decided to get to know me better by going through my profile. Given the opportunity, I would like to connect with you and do the same. I am a driven business analyst whose business requirement documents and technical specification always pass user acceptance testing. At present I am a, solutions and result driven MBA student with less than an year’s working experience and proven track record of academic excellence. I am Seeking to leverage my familiarity with cost effective solutions as a business analyst. I’m a highly energetic and initiative driven individual, passionate about working hand-in-hand with developers and users to produce requirements and specifications that accurately reflect business needs and are technologically achievable.\\n\\nSpecialties include:\\n\\n1. Clear communication with team leads\\n2. User-acceptance testing\\n3. Requirement gathering\\n4. User stories and acceptance criteria\\n5. Business requirement documents\\n6. Technical specifications\\n7. Quality reporting\\n8. Decision maker / problem-solver\\n\\nI have an ability to create a detailed business analysis report which outlines problems, opportunities and solutions. I can leverage data visualization methods to tell a compelling story, reliable for conducting statistical analysis and reporting of data and statistical results using statistical methods in accordance with the project standards. I am Confident that my analytical skills coupled with team building, ability to absorb and master concepts quickly will bring a lot of value to the table.\\n\\nSoftware tools that I am familiar with:\\n\\n- Excel\\n- Python\\n- Tableau online\\n- SQL\\n- Microsoft suite\\n- Azure\\n- Amazon web services',\n",
       " 'country': 'IN',\n",
       " 'country_full_name': 'India',\n",
       " 'city': 'Bengaluru',\n",
       " 'state': 'Karnataka',\n",
       " 'experiences': [{'starts_at': {'day': 1, 'month': 1, 'year': 2023},\n",
       "   'ends_at': None,\n",
       "   'company': 'Flipcarbon: Virtual CFO & Accounting Services',\n",
       "   'company_linkedin_profile_url': 'https://www.linkedin.com/company/flipcarbon-cfo/',\n",
       "   'title': 'Business Intelligence Analyst',\n",
       "   'description': None,\n",
       "   'location': 'Bangalore',\n",
       "   'logo_url': 'https://media.licdn.com/dms/image/C560BAQF4WHUhiuQJFA/company-logo_400_400/0/1594812206600?e=1681344000&v=beta&t=fNp4BToxYmFRAOcNl1jNPN7jJABqwyfVLt8gALkz7g0'},\n",
       "  {'starts_at': {'day': 1, 'month': 10, 'year': 2022},\n",
       "   'ends_at': {'day': 1, 'month': 1, 'year': 2023},\n",
       "   'company': 'Rablo.in',\n",
       "   'company_linkedin_profile_url': 'https://www.linkedin.com/company/rablo/',\n",
       "   'title': 'Research Analyst',\n",
       "   'description': None,\n",
       "   'location': 'Remote',\n",
       "   'logo_url': 'https://media.licdn.com/dms/image/C4D0BAQEaZn49V9AjlQ/company-logo_400_400/0/1658731771207?e=1681344000&v=beta&t=KrptyTX6TAxdN5UjmOb3SHTk49L8f4_Ihs3ZNCBRjzU'},\n",
       "  {'starts_at': {'day': 1, 'month': 7, 'year': 2022},\n",
       "   'ends_at': {'day': 1, 'month': 8, 'year': 2022},\n",
       "   'company': 'GlobalShala',\n",
       "   'company_linkedin_profile_url': 'https://www.linkedin.com/company/globalshala/',\n",
       "   'title': 'Data Analyst',\n",
       "   'description': 'Collaborated with functional heads to identify opportunities for operational improvement and strategic decisions in respective functions based on data.\\n Defined and tracked key performance indicators for existing and new functions/projects across marketing and finance department.\\n    Conducted detailed analysis, generated insights and visualizations and published reports based on company-wide data.\\n    Improved data accuracy, viability and value by improving and streamlining processes regarding data flow and data quality.\\nDeveloped a trend forecasting framework to identify campaigns likely to trend in order to help the business take proactive merchandising decisions.\\nTracked and fixed any financial database discrepancies and significantly reduced expenses of in-depth financial analysis - reduced by 3.5% within 1 month.',\n",
       "   'location': 'Online',\n",
       "   'logo_url': 'https://media.licdn.com/dms/image/C4E0BAQGv86zXn5z9ng/company-logo_400_400/0/1626108324483?e=1681344000&v=beta&t=klMCD00t2WY3m-DN-SVrTGtbH7q52pZcdbDLsEyffrU'},\n",
       "  {'starts_at': {'day': 1, 'month': 6, 'year': 2022},\n",
       "   'ends_at': {'day': 1, 'month': 7, 'year': 2022},\n",
       "   'company': 'YBI Foundation',\n",
       "   'company_linkedin_profile_url': 'https://www.linkedin.com/company/ybi-foundation/',\n",
       "   'title': 'Machine Learning Specialist',\n",
       "   'description': 'Collaborated with colleagues on the development and implementation of new machine learning systems.\\nCollected and analyzed data, created machine learning algorithms, and maintained and managed databases.\\nConducted professional statistical analysis and pro-actively participated in the development of multiple regression Models.\\nCreated Dummy models with SKLearn, Statsmodels and AutoML.\\nWas responsible for model evaluation, selection and hyperparameter tuning.\\nGrasped concepts related to Linear and polynomial regression, numerical coding.\\nImplemented models on decision tree and clustering concept.',\n",
       "   'location': 'Online',\n",
       "   'logo_url': 'https://media.licdn.com/dms/image/C4E0BAQEBWDlaxQG0-A/company-logo_400_400/0/1634372101177?e=1681344000&v=beta&t=s4kiTjxcdTwakENck0Y_FVz8u6iX03rBYJFlPpP1t0E'},\n",
       "  {'starts_at': {'day': 1, 'month': 6, 'year': 2022},\n",
       "   'ends_at': {'day': 1, 'month': 8, 'year': 2022},\n",
       "   'company': 'Yoshops.com',\n",
       "   'company_linkedin_profile_url': 'https://www.linkedin.com/company/yoshops/',\n",
       "   'title': 'Data Analyst',\n",
       "   'description': 'Constructed python scripts to extract data for analysis\\n    Utilized Power BI to create data visualizations\\n    Presented findings to improve customer satisfaction\\n    Wrote SQL queries to extract data from relational databases\\n    Scraped live data from web using python\\n    Created data visualizations to communicate findings\\n    Developed statistical models to predict future trends\\n    Worked on flow automation and data condensation using python.\\n    Used Pandas, Numpy, Seaborn and Matplotlib for Extensive Exploratory data analysis.\\n    Analysis and evaluation of business models and existing IT solutions.\\n    Performed A/B testing to validate new design changes of the clients website and helped them improve the conversion rates.',\n",
       "   'location': 'Online',\n",
       "   'logo_url': 'https://media.licdn.com/dms/image/C510BAQFp9WAQW0Mvcg/company-logo_400_400/0/1523959111035?e=1681344000&v=beta&t=pgRWYYVIpkJyEToZjgK5AnjuKPUJpM6krMGTAuyUnTA'},\n",
       "  {'starts_at': {'day': 1, 'month': 4, 'year': 2022},\n",
       "   'ends_at': {'day': 1, 'month': 5, 'year': 2022},\n",
       "   'company': 'Goaler',\n",
       "   'company_linkedin_profile_url': 'https://www.linkedin.com/company/goaler/',\n",
       "   'title': 'Financial Research Analyst',\n",
       "   'description': 'During the course of this internship I was responsible for information gathering, formatting and presentation of stock market data based on a few selected stocks of my choice, Then I was responsible for selecting appropriate stocks, I calculated relevant financial metrics to support my findings and summarized the findings and submitted the  report to my mentor.\\nI acquired commercial awareness and attention to detail. I was also able to get a strong understanding of financial analysis using Excel.',\n",
       "   'location': 'India',\n",
       "   'logo_url': 'https://media.licdn.com/dms/image/C560BAQEelkRp8ajs1Q/company-logo_400_400/0/1643174184786?e=1681344000&v=beta&t=hUIXaCBimHLSShNwC1W0b_si6AnhHnjadfk3FU4tZc0'}],\n",
       " 'education': [{'starts_at': {'day': 1, 'month': 8, 'year': 2021},\n",
       "   'ends_at': None,\n",
       "   'field_of_study': 'Business Analytics',\n",
       "   'degree_name': 'Master of Business Administration - MBA',\n",
       "   'school': 'International Institute of Business Studies (Official)',\n",
       "   'school_linkedin_profile_url': None,\n",
       "   'description': None,\n",
       "   'logo_url': 'https://media.licdn.com/dms/image/C560BAQH80K9O6HyadA/company-logo_400_400/0/1629688324619?e=1681344000&v=beta&t=eLzC8Wa8_mBirwo87Kt1Foh97AQ0L_wPnYP2XatTOSc',\n",
       "   'grade': None,\n",
       "   'activities_and_societies': None},\n",
       "  {'starts_at': {'day': 1, 'month': 1, 'year': 2018},\n",
       "   'ends_at': {'day': 1, 'month': 1, 'year': 2021},\n",
       "   'field_of_study': 'Taxation',\n",
       "   'degree_name': 'Bachelor of Commerce - BCom',\n",
       "   'school': 'Amrita Vishwa Vidyapeetham',\n",
       "   'school_linkedin_profile_url': None,\n",
       "   'description': None,\n",
       "   'logo_url': 'https://media.licdn.com/dms/image/C510BAQGE9_7cyJ8-7g/company-logo_400_400/0/1553334149707?e=1681344000&v=beta&t=eQgU9KIQ4SYCu6cwblE4UYApRp4IiF0bVuDPNPmYltc',\n",
       "   'grade': None,\n",
       "   'activities_and_societies': None}],\n",
       " 'languages': ['English', 'Hindi', 'Malayalam', 'Tamil'],\n",
       " 'accomplishment_organisations': [],\n",
       " 'accomplishment_publications': [],\n",
       " 'accomplishment_honors_awards': [{'title': 'Sahodaya Essay Competition',\n",
       "   'issuer': 'CBSE Sahodaya school Complexes',\n",
       "   'issued_on': {'day': 1, 'month': 10, 'year': 2013},\n",
       "   'description': '1st prize on English essay writing on a district level '}],\n",
       " 'accomplishment_patents': [],\n",
       " 'accomplishment_courses': [{'name': 'Google Data Analytics Professional Certificate',\n",
       "   'number': None},\n",
       "  {'name': 'Marketing Analytics Foundation', 'number': None},\n",
       "  {'name': 'Tally', 'number': None}],\n",
       " 'accomplishment_projects': [],\n",
       " 'accomplishment_test_scores': [],\n",
       " 'volunteer_work': [],\n",
       " 'certifications': [{'starts_at': {'day': 1, 'month': 10, 'year': 2022},\n",
       "   'ends_at': None,\n",
       "   'name': 'Customer Analytics',\n",
       "   'license_number': 'AWQZERFUJUQV',\n",
       "   'display_source': 'coursera.org',\n",
       "   'authority': 'University of Pennsylvania',\n",
       "   'url': 'https://www.coursera.org/account/accomplishments/verify/AWQZERFUJUQV'},\n",
       "  {'starts_at': {'day': 1, 'month': 10, 'year': 2022},\n",
       "   'ends_at': None,\n",
       "   'name': 'Excel Skills for Business: Intermediate II',\n",
       "   'license_number': 'T4VTY7B6HASF',\n",
       "   'display_source': 'coursera.org',\n",
       "   'authority': 'Macquarie University',\n",
       "   'url': 'https://www.coursera.org/account/accomplishments/verify/T4VTY7B6HASF'},\n",
       "  {'starts_at': {'day': 1, 'month': 10, 'year': 2022},\n",
       "   'ends_at': None,\n",
       "   'name': 'Operations Analytics',\n",
       "   'license_number': 'MXC6CGDUDXGX',\n",
       "   'display_source': 'coursera.org',\n",
       "   'authority': 'University of Pennsylvania',\n",
       "   'url': 'https://www.coursera.org/account/accomplishments/verify/MXC6CGDUDXGX'},\n",
       "  {'starts_at': {'day': 1, 'month': 10, 'year': 2022},\n",
       "   'ends_at': None,\n",
       "   'name': 'People Analytics',\n",
       "   'license_number': 'ML5HNZD2M6TR',\n",
       "   'display_source': 'coursera.org',\n",
       "   'authority': 'University of Pennsylvania',\n",
       "   'url': 'https://www.coursera.org/account/accomplishments/verify/ML5HNZD2M6TR'},\n",
       "  {'starts_at': {'day': 1, 'month': 10, 'year': 2022},\n",
       "   'ends_at': None,\n",
       "   'name': 'Python Data Structures',\n",
       "   'license_number': 'TB994L3S5ZSC',\n",
       "   'display_source': 'coursera.org',\n",
       "   'authority': 'University of Michigan',\n",
       "   'url': 'https://www.coursera.org/account/accomplishments/verify/TB994L3S5ZSC'},\n",
       "  {'starts_at': {'day': 1, 'month': 10, 'year': 2022},\n",
       "   'ends_at': None,\n",
       "   'name': 'Python Functions, Files, and Dictionaries',\n",
       "   'license_number': 'SBF5CGHJ4XAG',\n",
       "   'display_source': 'coursera.org',\n",
       "   'authority': 'University of Michigan',\n",
       "   'url': 'https://www.coursera.org/account/accomplishments/verify/SBF5CGHJ4XAG'},\n",
       "  {'starts_at': {'day': 1, 'month': 8, 'year': 2022},\n",
       "   'ends_at': None,\n",
       "   'name': 'AWS Cloud Technical Essentials',\n",
       "   'license_number': '2632P9Y4FAG7',\n",
       "   'display_source': 'coursera.org',\n",
       "   'authority': 'Amazon Web Services (AWS)',\n",
       "   'url': 'https://www.coursera.org/account/accomplishments/verify/2632P9Y4FAG7'},\n",
       "  {'starts_at': {'day': 1, 'month': 8, 'year': 2022},\n",
       "   'ends_at': None,\n",
       "   'name': 'Excel Skills for Business: Intermediate I',\n",
       "   'license_number': 'GMTF7ZXZ7HXD',\n",
       "   'display_source': 'coursera.org',\n",
       "   'authority': 'Macquarie University',\n",
       "   'url': 'https://www.coursera.org/account/accomplishments/verify/GMTF7ZXZ7HXD'},\n",
       "  {'starts_at': {'day': 1, 'month': 8, 'year': 2022},\n",
       "   'ends_at': None,\n",
       "   'name': 'Introduction to DevOps',\n",
       "   'license_number': 'XC433YEQNYSK',\n",
       "   'display_source': 'coursera.org',\n",
       "   'authority': 'IBM',\n",
       "   'url': 'https://www.coursera.org/account/accomplishments/verify/XC433YEQNYSK'},\n",
       "  {'starts_at': {'day': 1, 'month': 7, 'year': 2022},\n",
       "   'ends_at': None,\n",
       "   'name': 'Decentralized Finance (DeFi) Deep Dive',\n",
       "   'license_number': 'XXWQAW8NJFQ4',\n",
       "   'display_source': 'coursera.org',\n",
       "   'authority': 'Duke University',\n",
       "   'url': 'https://www.coursera.org/account/accomplishments/verify/XXWQAW8NJFQ4'},\n",
       "  {'starts_at': {'day': 1, 'month': 7, 'year': 2022},\n",
       "   'ends_at': None,\n",
       "   'name': 'Foundations for Big Data Analysis with SQL',\n",
       "   'license_number': 'JRVU2V556GXC',\n",
       "   'display_source': 'coursera.org',\n",
       "   'authority': 'Cloudera',\n",
       "   'url': 'https://www.coursera.org/account/accomplishments/verify/JRVU2V556GXC'},\n",
       "  {'starts_at': {'day': 1, 'month': 5, 'year': 2022},\n",
       "   'ends_at': None,\n",
       "   'name': 'Decentralized Finance (DeFi) Primitives',\n",
       "   'license_number': 'KKUF6AKUC63X',\n",
       "   'display_source': 'coursera.org',\n",
       "   'authority': 'Duke University',\n",
       "   'url': 'https://www.coursera.org/account/accomplishments/certificate/KKUF6AKUC63X'},\n",
       "  {'starts_at': {'day': 1, 'month': 4, 'year': 2022},\n",
       "   'ends_at': None,\n",
       "   'name': 'AWS S3 Basics',\n",
       "   'license_number': '7FZ4L9KK6Q84',\n",
       "   'display_source': 'coursera.org',\n",
       "   'authority': 'Coursera',\n",
       "   'url': 'https://coursera.org/verify/7FZ4L9KK6Q84'},\n",
       "  {'starts_at': {'day': 1, 'month': 4, 'year': 2022},\n",
       "   'ends_at': None,\n",
       "   'name': 'Getting Started with Data Analytics on AWS',\n",
       "   'license_number': 'ZMKUNNYB48WX',\n",
       "   'display_source': 'coursera.org',\n",
       "   'authority': 'Coursera',\n",
       "   'url': 'https://www.coursera.org/account/accomplishments/verify/ZMKUNNYB48WX'},\n",
       "  {'starts_at': {'day': 1, 'month': 4, 'year': 2022},\n",
       "   'ends_at': None,\n",
       "   'name': 'Google Data Analytics Professional Certificate',\n",
       "   'license_number': 'SHVUJNCLW2QW',\n",
       "   'display_source': 'coursera.org',\n",
       "   'authority': 'Google',\n",
       "   'url': 'https://www.coursera.org/account/accomplishments/professional-cert/SHVUJNCLW2QW'},\n",
       "  {'starts_at': {'day': 1, 'month': 4, 'year': 2022},\n",
       "   'ends_at': None,\n",
       "   'name': 'Machine Learning Pipelines with Azure ML Studio',\n",
       "   'license_number': '67QUEDF7EGR5',\n",
       "   'display_source': 'coursera.org',\n",
       "   'authority': 'Coursera',\n",
       "   'url': 'https://coursera.org/verify/67QUEDF7EGR5'},\n",
       "  {'starts_at': {'day': 1, 'month': 4, 'year': 2022},\n",
       "   'ends_at': None,\n",
       "   'name': 'Programming for Everybody (Getting Started with Python)',\n",
       "   'license_number': 'ETN5HHETBX8A',\n",
       "   'display_source': 'coursera.org',\n",
       "   'authority': 'University of Michigan',\n",
       "   'url': 'https://coursera.org/verify/ETN5HHETBX8A'},\n",
       "  {'starts_at': {'day': 1, 'month': 4, 'year': 2022},\n",
       "   'ends_at': None,\n",
       "   'name': 'Python Basics',\n",
       "   'license_number': 'ZTEJ68YRUWPM',\n",
       "   'display_source': 'coursera.org',\n",
       "   'authority': 'University of Michigan',\n",
       "   'url': 'https://coursera.org/verify/ZTEJ68YRUWPM'},\n",
       "  {'starts_at': {'day': 1, 'month': 4, 'year': 2022},\n",
       "   'ends_at': None,\n",
       "   'name': 'Python for Data Science, AI & Development',\n",
       "   'license_number': 'DBUB5GQ22NAV',\n",
       "   'display_source': 'coursera.org',\n",
       "   'authority': 'IBM',\n",
       "   'url': 'https://coursera.org/verify/DBUB5GQ22NAV'},\n",
       "  {'starts_at': {'day': 1, 'month': 3, 'year': 2022},\n",
       "   'ends_at': None,\n",
       "   'name': 'Crash course on Python',\n",
       "   'license_number': '825PHY75CEFV',\n",
       "   'display_source': 'coursera.org',\n",
       "   'authority': 'Google',\n",
       "   'url': 'https://coursera.org/verify/825PHY75CEFV'}],\n",
       " 'connections': None,\n",
       " 'people_also_viewed': [{'link': 'https://www.linkedin.com/in/soni-kumari-24858b1b3',\n",
       "   'name': 'Soni Kumari',\n",
       "   'summary': 'MBA Student (Finance, Business Analytics)',\n",
       "   'location': None},\n",
       "  {'link': 'https://www.linkedin.com/in/hemavathi-gowda-47081b217',\n",
       "   'name': 'Hemavathi Gowda',\n",
       "   'summary': 'MBA student @ International institute of business studies',\n",
       "   'location': None},\n",
       "  {'link': 'https://www.linkedin.com/in/nakulsanandt',\n",
       "   'name': 'Nakul S Anand T',\n",
       "   'summary': 'Aspiring Data Analyst',\n",
       "   'location': None},\n",
       "  {'link': 'https://www.linkedin.com/in/anil-naik-758622225',\n",
       "   'name': 'Anil Naik',\n",
       "   'summary': 'Aspiring Market Researcher | Seeking internships in field of Research | Experienced in collecting and evaluating Business & Market Data.',\n",
       "   'location': None},\n",
       "  {'link': 'https://www.linkedin.com/in/shifa-mehboob-munshi-7604b5224',\n",
       "   'name': 'Shifa Mehboob Munshi',\n",
       "   'summary': 'MBA Student (Finance and Business Analytics) | Seeking Internship in the field of Finance.',\n",
       "   'location': None},\n",
       "  {'link': 'https://www.linkedin.com/in/shruti-singh-a5798b219',\n",
       "   'name': 'Shruti Singh',\n",
       "   'summary': 'Master Of Business Administration Student',\n",
       "   'location': None},\n",
       "  {'link': 'https://www.linkedin.com/in/anandhakrishnan-r',\n",
       "   'name': 'Anandhakrishnan R',\n",
       "   'summary': 'Pursuing MBA, Marketing and Analytics from International Institute of Business Studies. Marketing Specialist Seeking internships in Business development, Digital Marketing and Campaign Management.',\n",
       "   'location': None},\n",
       "  {'link': 'https://www.linkedin.com/in/rakhi-gupta-2ba201201',\n",
       "   'name': 'Rakhi Gupta',\n",
       "   'summary': 'International institute of business Studies Bangalore',\n",
       "   'location': None},\n",
       "  {'link': 'https://www.linkedin.com/in/prabhuamar',\n",
       "   'name': 'Amar Prabhu',\n",
       "   'summary': 'Seeking Internship for Investment Banking Roles | Pursuing Master of Business Administration',\n",
       "   'location': None},\n",
       "  {'link': 'https://www.linkedin.com/in/kavya-priya-072b30232',\n",
       "   'name': 'Kavya Priya',\n",
       "   'summary': 'Business Management',\n",
       "   'location': None}],\n",
       " 'recommendations': ['Jagriti Chadha\\n\\n\\n\\nIt was my privilege to work with him. He is humble and supportive as a mentor. Along with his ability to keep the team motivated through the constant efforts, his research and analysis skills were quite appreciable.',\n",
       "  'shreyansh gupta\\n\\n\\n\\nHe is an excellent team lead. I had a pleasure working for a month with him, and he leads by example. He\\nalways kept the team morale up, and I believe he is the best team lead I \\never had. His ability to work through the crisis and develop new ways to achieve the targets were always inspiring. I am delighted to work and learn with such professionals.”'],\n",
       " 'activities': [],\n",
       " 'similarly_named_profiles': [],\n",
       " 'articles': [],\n",
       " 'groups': [],\n",
       " 'skills': []}"
      ]
     },
     "execution_count": 13,
     "metadata": {},
     "output_type": "execute_result"
    }
   ],
   "source": [
    "profile_data = response.json()\n",
    "profile_data     "
   ]
  },
  {
   "cell_type": "code",
   "execution_count": 14,
   "id": "cc5091d1",
   "metadata": {},
   "outputs": [
    {
     "data": {
      "text/plain": [
       "dict_keys(['public_identifier', 'profile_pic_url', 'background_cover_image_url', 'first_name', 'last_name', 'full_name', 'occupation', 'headline', 'summary', 'country', 'country_full_name', 'city', 'state', 'experiences', 'education', 'languages', 'accomplishment_organisations', 'accomplishment_publications', 'accomplishment_honors_awards', 'accomplishment_patents', 'accomplishment_courses', 'accomplishment_projects', 'accomplishment_test_scores', 'volunteer_work', 'certifications', 'connections', 'people_also_viewed', 'recommendations', 'activities', 'similarly_named_profiles', 'articles', 'groups', 'skills'])"
      ]
     },
     "execution_count": 14,
     "metadata": {},
     "output_type": "execute_result"
    }
   ],
   "source": [
    "profile_data.keys()"
   ]
  },
  {
   "cell_type": "code",
   "execution_count": 15,
   "id": "906369a1",
   "metadata": {},
   "outputs": [
    {
     "data": {
      "text/plain": [
       "'Balasubramanian P.G'"
      ]
     },
     "execution_count": 15,
     "metadata": {},
     "output_type": "execute_result"
    }
   ],
   "source": [
    "profile_data['full_name']"
   ]
  },
  {
   "cell_type": "code",
   "execution_count": 16,
   "id": "1cc9979f",
   "metadata": {},
   "outputs": [
    {
     "data": {
      "text/plain": [
       "'Business Intelligence Analyst at Flipcarbon: Virtual CFO & Accounting Services'"
      ]
     },
     "execution_count": 16,
     "metadata": {},
     "output_type": "execute_result"
    }
   ],
   "source": [
    "profile_data['occupation']"
   ]
  },
  {
   "cell_type": "code",
   "execution_count": 17,
   "id": "df33b267",
   "metadata": {},
   "outputs": [
    {
     "data": {
      "text/plain": [
       "'Aspiring Business Analyst | BI Intern at Flipcarbon: Virtual CFO & Accounting Services | Experience with Excel, SQL, Python and Visualization Tools | Graduating MBA, Business Analytics in 2023.'"
      ]
     },
     "execution_count": 17,
     "metadata": {},
     "output_type": "execute_result"
    }
   ],
   "source": [
    "profile_data['headline']"
   ]
  },
  {
   "cell_type": "code",
   "execution_count": 18,
   "id": "ad58c4c4",
   "metadata": {},
   "outputs": [
    {
     "name": "stdout",
     "output_type": "stream",
     "text": [
      "Hey there, I am glad you decided to get to know me better by going through my profile. Given the opportunity, I would like to connect with you and do the same. I am a driven business analyst whose business requirement documents and technical specification always pass user acceptance testing. At present I am a, solutions and result driven MBA student with less than an year’s working experience and proven track record of academic excellence. I am Seeking to leverage my familiarity with cost effective solutions as a business analyst. I’m a highly energetic and initiative driven individual, passionate about working hand-in-hand with developers and users to produce requirements and specifications that accurately reflect business needs and are technologically achievable.\n",
      "\n",
      "Specialties include:\n",
      "\n",
      "1. Clear communication with team leads\n",
      "2. User-acceptance testing\n",
      "3. Requirement gathering\n",
      "4. User stories and acceptance criteria\n",
      "5. Business requirement documents\n",
      "6. Technical specifications\n",
      "7. Quality reporting\n",
      "8. Decision maker / problem-solver\n",
      "\n",
      "I have an ability to create a detailed business analysis report which outlines problems, opportunities and solutions. I can leverage data visualization methods to tell a compelling story, reliable for conducting statistical analysis and reporting of data and statistical results using statistical methods in accordance with the project standards. I am Confident that my analytical skills coupled with team building, ability to absorb and master concepts quickly will bring a lot of value to the table.\n",
      "\n",
      "Software tools that I am familiar with:\n",
      "\n",
      "- Excel\n",
      "- Python\n",
      "- Tableau online\n",
      "- SQL\n",
      "- Microsoft suite\n",
      "- Azure\n",
      "- Amazon web services\n"
     ]
    }
   ],
   "source": [
    "print(profile_data['summary'])"
   ]
  },
  {
   "cell_type": "code",
   "execution_count": 19,
   "id": "b7b17e17",
   "metadata": {},
   "outputs": [
    {
     "data": {
      "text/plain": [
       "[{'starts_at': {'day': 1, 'month': 1, 'year': 2023},\n",
       "  'ends_at': None,\n",
       "  'company': 'Flipcarbon: Virtual CFO & Accounting Services',\n",
       "  'company_linkedin_profile_url': 'https://www.linkedin.com/company/flipcarbon-cfo/',\n",
       "  'title': 'Business Intelligence Analyst',\n",
       "  'description': None,\n",
       "  'location': 'Bangalore',\n",
       "  'logo_url': 'https://media.licdn.com/dms/image/C560BAQF4WHUhiuQJFA/company-logo_400_400/0/1594812206600?e=1681344000&v=beta&t=fNp4BToxYmFRAOcNl1jNPN7jJABqwyfVLt8gALkz7g0'},\n",
       " {'starts_at': {'day': 1, 'month': 10, 'year': 2022},\n",
       "  'ends_at': {'day': 1, 'month': 1, 'year': 2023},\n",
       "  'company': 'Rablo.in',\n",
       "  'company_linkedin_profile_url': 'https://www.linkedin.com/company/rablo/',\n",
       "  'title': 'Research Analyst',\n",
       "  'description': None,\n",
       "  'location': 'Remote',\n",
       "  'logo_url': 'https://media.licdn.com/dms/image/C4D0BAQEaZn49V9AjlQ/company-logo_400_400/0/1658731771207?e=1681344000&v=beta&t=KrptyTX6TAxdN5UjmOb3SHTk49L8f4_Ihs3ZNCBRjzU'},\n",
       " {'starts_at': {'day': 1, 'month': 7, 'year': 2022},\n",
       "  'ends_at': {'day': 1, 'month': 8, 'year': 2022},\n",
       "  'company': 'GlobalShala',\n",
       "  'company_linkedin_profile_url': 'https://www.linkedin.com/company/globalshala/',\n",
       "  'title': 'Data Analyst',\n",
       "  'description': 'Collaborated with functional heads to identify opportunities for operational improvement and strategic decisions in respective functions based on data.\\n Defined and tracked key performance indicators for existing and new functions/projects across marketing and finance department.\\n    Conducted detailed analysis, generated insights and visualizations and published reports based on company-wide data.\\n    Improved data accuracy, viability and value by improving and streamlining processes regarding data flow and data quality.\\nDeveloped a trend forecasting framework to identify campaigns likely to trend in order to help the business take proactive merchandising decisions.\\nTracked and fixed any financial database discrepancies and significantly reduced expenses of in-depth financial analysis - reduced by 3.5% within 1 month.',\n",
       "  'location': 'Online',\n",
       "  'logo_url': 'https://media.licdn.com/dms/image/C4E0BAQGv86zXn5z9ng/company-logo_400_400/0/1626108324483?e=1681344000&v=beta&t=klMCD00t2WY3m-DN-SVrTGtbH7q52pZcdbDLsEyffrU'},\n",
       " {'starts_at': {'day': 1, 'month': 6, 'year': 2022},\n",
       "  'ends_at': {'day': 1, 'month': 7, 'year': 2022},\n",
       "  'company': 'YBI Foundation',\n",
       "  'company_linkedin_profile_url': 'https://www.linkedin.com/company/ybi-foundation/',\n",
       "  'title': 'Machine Learning Specialist',\n",
       "  'description': 'Collaborated with colleagues on the development and implementation of new machine learning systems.\\nCollected and analyzed data, created machine learning algorithms, and maintained and managed databases.\\nConducted professional statistical analysis and pro-actively participated in the development of multiple regression Models.\\nCreated Dummy models with SKLearn, Statsmodels and AutoML.\\nWas responsible for model evaluation, selection and hyperparameter tuning.\\nGrasped concepts related to Linear and polynomial regression, numerical coding.\\nImplemented models on decision tree and clustering concept.',\n",
       "  'location': 'Online',\n",
       "  'logo_url': 'https://media.licdn.com/dms/image/C4E0BAQEBWDlaxQG0-A/company-logo_400_400/0/1634372101177?e=1681344000&v=beta&t=s4kiTjxcdTwakENck0Y_FVz8u6iX03rBYJFlPpP1t0E'},\n",
       " {'starts_at': {'day': 1, 'month': 6, 'year': 2022},\n",
       "  'ends_at': {'day': 1, 'month': 8, 'year': 2022},\n",
       "  'company': 'Yoshops.com',\n",
       "  'company_linkedin_profile_url': 'https://www.linkedin.com/company/yoshops/',\n",
       "  'title': 'Data Analyst',\n",
       "  'description': 'Constructed python scripts to extract data for analysis\\n    Utilized Power BI to create data visualizations\\n    Presented findings to improve customer satisfaction\\n    Wrote SQL queries to extract data from relational databases\\n    Scraped live data from web using python\\n    Created data visualizations to communicate findings\\n    Developed statistical models to predict future trends\\n    Worked on flow automation and data condensation using python.\\n    Used Pandas, Numpy, Seaborn and Matplotlib for Extensive Exploratory data analysis.\\n    Analysis and evaluation of business models and existing IT solutions.\\n    Performed A/B testing to validate new design changes of the clients website and helped them improve the conversion rates.',\n",
       "  'location': 'Online',\n",
       "  'logo_url': 'https://media.licdn.com/dms/image/C510BAQFp9WAQW0Mvcg/company-logo_400_400/0/1523959111035?e=1681344000&v=beta&t=pgRWYYVIpkJyEToZjgK5AnjuKPUJpM6krMGTAuyUnTA'},\n",
       " {'starts_at': {'day': 1, 'month': 4, 'year': 2022},\n",
       "  'ends_at': {'day': 1, 'month': 5, 'year': 2022},\n",
       "  'company': 'Goaler',\n",
       "  'company_linkedin_profile_url': 'https://www.linkedin.com/company/goaler/',\n",
       "  'title': 'Financial Research Analyst',\n",
       "  'description': 'During the course of this internship I was responsible for information gathering, formatting and presentation of stock market data based on a few selected stocks of my choice, Then I was responsible for selecting appropriate stocks, I calculated relevant financial metrics to support my findings and summarized the findings and submitted the  report to my mentor.\\nI acquired commercial awareness and attention to detail. I was also able to get a strong understanding of financial analysis using Excel.',\n",
       "  'location': 'India',\n",
       "  'logo_url': 'https://media.licdn.com/dms/image/C560BAQEelkRp8ajs1Q/company-logo_400_400/0/1643174184786?e=1681344000&v=beta&t=hUIXaCBimHLSShNwC1W0b_si6AnhHnjadfk3FU4tZc0'}]"
      ]
     },
     "execution_count": 19,
     "metadata": {},
     "output_type": "execute_result"
    }
   ],
   "source": [
    "profile_data['experiences']"
   ]
  },
  {
   "cell_type": "code",
   "execution_count": 20,
   "id": "401ea259",
   "metadata": {},
   "outputs": [
    {
     "data": {
      "text/plain": [
       "[{'starts_at': {'day': 1, 'month': 8, 'year': 2021},\n",
       "  'ends_at': None,\n",
       "  'field_of_study': 'Business Analytics',\n",
       "  'degree_name': 'Master of Business Administration - MBA',\n",
       "  'school': 'International Institute of Business Studies (Official)',\n",
       "  'school_linkedin_profile_url': None,\n",
       "  'description': None,\n",
       "  'logo_url': 'https://media.licdn.com/dms/image/C560BAQH80K9O6HyadA/company-logo_400_400/0/1629688324619?e=1681344000&v=beta&t=eLzC8Wa8_mBirwo87Kt1Foh97AQ0L_wPnYP2XatTOSc',\n",
       "  'grade': None,\n",
       "  'activities_and_societies': None},\n",
       " {'starts_at': {'day': 1, 'month': 1, 'year': 2018},\n",
       "  'ends_at': {'day': 1, 'month': 1, 'year': 2021},\n",
       "  'field_of_study': 'Taxation',\n",
       "  'degree_name': 'Bachelor of Commerce - BCom',\n",
       "  'school': 'Amrita Vishwa Vidyapeetham',\n",
       "  'school_linkedin_profile_url': None,\n",
       "  'description': None,\n",
       "  'logo_url': 'https://media.licdn.com/dms/image/C510BAQGE9_7cyJ8-7g/company-logo_400_400/0/1553334149707?e=1681344000&v=beta&t=eQgU9KIQ4SYCu6cwblE4UYApRp4IiF0bVuDPNPmYltc',\n",
       "  'grade': None,\n",
       "  'activities_and_societies': None}]"
      ]
     },
     "execution_count": 20,
     "metadata": {},
     "output_type": "execute_result"
    }
   ],
   "source": [
    "profile_data['education']"
   ]
  },
  {
   "cell_type": "code",
   "execution_count": 21,
   "id": "c83c0df6",
   "metadata": {},
   "outputs": [
    {
     "data": {
      "text/plain": [
       "{'starts_at': {'day': 1, 'month': 8, 'year': 2021},\n",
       " 'ends_at': None,\n",
       " 'field_of_study': 'Business Analytics',\n",
       " 'degree_name': 'Master of Business Administration - MBA',\n",
       " 'school': 'International Institute of Business Studies (Official)',\n",
       " 'school_linkedin_profile_url': None,\n",
       " 'description': None,\n",
       " 'logo_url': 'https://media.licdn.com/dms/image/C560BAQH80K9O6HyadA/company-logo_400_400/0/1629688324619?e=1681344000&v=beta&t=eLzC8Wa8_mBirwo87Kt1Foh97AQ0L_wPnYP2XatTOSc',\n",
       " 'grade': None,\n",
       " 'activities_and_societies': None}"
      ]
     },
     "execution_count": 21,
     "metadata": {},
     "output_type": "execute_result"
    }
   ],
   "source": [
    "profile_data['education'][0]"
   ]
  },
  {
   "cell_type": "code",
   "execution_count": 22,
   "id": "4bc8cb1a",
   "metadata": {},
   "outputs": [
    {
     "data": {
      "text/plain": [
       "[]"
      ]
     },
     "execution_count": 22,
     "metadata": {},
     "output_type": "execute_result"
    }
   ],
   "source": [
    "profile_data['skills']"
   ]
  },
  {
   "cell_type": "code",
   "execution_count": null,
   "id": "d6281f8d",
   "metadata": {},
   "outputs": [],
   "source": []
  },
  {
   "cell_type": "code",
   "execution_count": null,
   "id": "4840b6c4",
   "metadata": {},
   "outputs": [],
   "source": []
  },
  {
   "cell_type": "code",
   "execution_count": null,
   "id": "19afd238",
   "metadata": {},
   "outputs": [],
   "source": []
  }
 ],
 "metadata": {
  "kernelspec": {
   "display_name": "Python 3 (ipykernel)",
   "language": "python",
   "name": "python3"
  },
  "language_info": {
   "codemirror_mode": {
    "name": "ipython",
    "version": 3
   },
   "file_extension": ".py",
   "mimetype": "text/x-python",
   "name": "python",
   "nbconvert_exporter": "python",
   "pygments_lexer": "ipython3",
   "version": "3.9.12"
  }
 },
 "nbformat": 4,
 "nbformat_minor": 5
}
